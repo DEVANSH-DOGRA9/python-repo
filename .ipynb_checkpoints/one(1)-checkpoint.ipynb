{
 "cells": [
  {
   "cell_type": "code",
   "execution_count": 8,
   "id": "a5f944ca",
   "metadata": {},
   "outputs": [
    {
     "name": "stdout",
     "output_type": "stream",
     "text": [
      "Too low\n"
     ]
    }
   ],
   "source": [
    "n=10\n",
    "if n>=1 and n<=10:\n",
    "    print(\"Too low\")\n",
    "elif n>=10 and n<=20:\n",
    "    print(\"Medium\")\n",
    "else:\n",
    "    print(\"Too large\")"
   ]
  },
  {
   "cell_type": "code",
   "execution_count": 13,
   "id": "56d65428",
   "metadata": {},
   "outputs": [
    {
     "name": "stdout",
     "output_type": "stream",
     "text": [
      "Hello\n",
      "Hi\n"
     ]
    }
   ],
   "source": [
    "x=5\n",
    "if x<6:\n",
    "    print(\"Hello\")\n",
    "if x==5:\n",
    "    print(\"Hi\")\n",
    "else:\n",
    "        print(\"Hey\")\n",
    "        "
   ]
  },
  {
   "cell_type": "code",
   "execution_count": 2,
   "id": "1075a33e",
   "metadata": {},
   "outputs": [
    {
     "name": "stdout",
     "output_type": "stream",
     "text": [
      "10\n",
      "Positive\n"
     ]
    }
   ],
   "source": [
    "\n",
    "n=int(input())\n",
    "if(n>0):\n",
    "    print(\"Positive\")\n",
    "elif(n<0):\n",
    "    print(\"Negative\")\n",
    "else:\n",
    "   print(0)\n",
    "        \n"
   ]
  },
  {
   "cell_type": "code",
   "execution_count": 7,
   "id": "53a5a2ce",
   "metadata": {},
   "outputs": [
    {
     "name": "stdout",
     "output_type": "stream",
     "text": [
      "0\n",
      "Zero\n"
     ]
    }
   ],
   "source": [
    "n=int(input())\n",
    "if(n==0):\n",
    " print(\"Zero\")\n",
    "\n",
    "elif(n%2==0):\n",
    " print(\"Even\")\n",
    "\n",
    "else:\n",
    "  print(\"Odd\")  "
   ]
  },
  {
   "cell_type": "code",
   "execution_count": 25,
   "id": "3a0fee14",
   "metadata": {},
   "outputs": [
    {
     "name": "stdout",
     "output_type": "stream",
     "text": [
      "4\n",
      "2\n",
      "1\n"
     ]
    }
   ],
   "source": [
    "n=int(input())\n",
    "m=int(input())\n",
    "if(n%2==0):\n",
    "    if(m%2==0):\n",
    "        print(\"1\")\n",
    "    else:       \n",
    "        print(\"2\")\n",
    "\n",
    "else:\n",
    "     print(\"3\")"
   ]
  },
  {
   "cell_type": "code",
   "execution_count": 37,
   "id": "9bb3c678",
   "metadata": {},
   "outputs": [
    {
     "name": "stdout",
     "output_type": "stream",
     "text": [
      "B\n"
     ]
    }
   ],
   "source": [
    " if (10 < 0) and (0 < -10):\n",
    "     print(\"A\")\n",
    " elif (10 > 0) or False:\n",
    "     print(\"B\")\n",
    " else:\n",
    "    print(\"C\")"
   ]
  },
  {
   "cell_type": "code",
   "execution_count": 39,
   "id": "4030f22c",
   "metadata": {},
   "outputs": [
    {
     "name": "stdout",
     "output_type": "stream",
     "text": [
      "B\n"
     ]
    }
   ],
   "source": [
    "if True or True:\n",
    "    if False and True or False:\n",
    "        print('A')\n",
    "    elif False and False or True and True:\n",
    "      print('B')\n",
    "    else:\n",
    "      print('C')\n",
    "else:         \n",
    "    print('D')"
   ]
  },
  {
   "cell_type": "code",
   "execution_count": 38,
   "id": "152c456b",
   "metadata": {},
   "outputs": [
    {
     "name": "stdout",
     "output_type": "stream",
     "text": [
      "B\n"
     ]
    }
   ],
   "source": [
    "if True or True:\n",
    "    if False and True or False:\n",
    "        print('A')\n",
    "    elif False and False or True and True:\n",
    "       print('B')\n",
    "    else:\n",
    "      print('C')\n",
    "else:\n",
    "     print('D')"
   ]
  },
  {
   "cell_type": "code",
   "execution_count": 41,
   "id": "75f6815e",
   "metadata": {},
   "outputs": [
    {
     "name": "stdout",
     "output_type": "stream",
     "text": [
      "3\n",
      "1\n",
      "1\n",
      "1\n"
     ]
    }
   ],
   "source": [
    "n=int(input())\n",
    "i=1\n",
    "while i<=n:\n",
    "    print('1')\n",
    "    i=i+1"
   ]
  },
  {
   "cell_type": "code",
   "execution_count": 2,
   "id": "ecb43d2c",
   "metadata": {},
   "outputs": [
    {
     "name": "stdout",
     "output_type": "stream",
     "text": [
      "10\n",
      "55\n"
     ]
    }
   ],
   "source": [
    "n=int(input())\n",
    "i=1\n",
    "sum=0\n",
    "while i<=n:\n",
    "    sum+=i\n",
    "    i=i+1\n",
    "print(sum)\n",
    "    \n"
   ]
  },
  {
   "cell_type": "code",
   "execution_count": 1,
   "id": "888bae68",
   "metadata": {},
   "outputs": [
    {
     "name": "stdout",
     "output_type": "stream",
     "text": [
      "10\n",
      "30\n"
     ]
    }
   ],
   "source": [
    "N=int(input())\n",
    "i=1\n",
    "sum=0\n",
    "while(i<=N):\n",
    "    if(i%2==0):\n",
    "     sum+=i\n",
    "    i=i+1\n",
    "print(sum)\n",
    "    "
   ]
  },
  {
   "cell_type": "code",
   "execution_count": null,
   "id": "dc522d4a",
   "metadata": {},
   "outputs": [],
   "source": [
    "N=int(input())\n",
    "i=1\n",
    "sum=0\n",
    "while(i<=N):\n",
    "    if(i%2==0):\n",
    "     sum+=i\n",
    "    i=i+1\n",
    "print(sum)\n",
    "    "
   ]
  },
  {
   "cell_type": "code",
   "execution_count": null,
   "id": "ac365a09",
   "metadata": {},
   "outputs": [],
   "source": [
    "i=0\n",
    "while i<10:\n",
    "print(i)\n",
    "i=i+1"
   ]
  },
  {
   "cell_type": "code",
   "execution_count": 6,
   "id": "d9851fd6",
   "metadata": {},
   "outputs": [
    {
     "name": "stdout",
     "output_type": "stream",
     "text": [
      "0\n",
      "100\n",
      "20\n",
      "0 \t -17\n",
      "20 \t -6\n",
      "40 \t 4\n",
      "60 \t 15\n",
      "80 \t 26\n",
      "100 \t 37\n"
     ]
    }
   ],
   "source": [
    "S=int(input())\n",
    "E=int(input())\n",
    "W=int(input())\n",
    "while(S<=E):\n",
    "    S1=(S-32)*5/9\n",
    "    S1=int(S1)\n",
    "    print(S,\"\\t\",S1)\n",
    "    S+=W"
   ]
  },
  {
   "cell_type": "code",
   "execution_count": null,
   "id": "190c532a",
   "metadata": {},
   "outputs": [],
   "source": [
    "while True:\n",
    "    n=int(input())\n",
    "    if n==1:\n",
    "             a=int(input())\n",
    "             b=int(input())\n",
    "             sum=a+b\n",
    "             print(sum)\n",
    "    elif n==2:\n",
    "             a=int(input())\n",
    "             b=int(input())\n",
    "             diff=a-b\n",
    "             print(diff)\n",
    "    elif n==3:\n",
    "             a=int(input())\n",
    "             b=int(input())\n",
    "             prod=a*b\n",
    "             print(prod)\n",
    "    elif n==4:\n",
    "             a=int(input())\n",
    "             b=int(input())\n",
    "             q=a//b\n",
    "             print(q)\n",
    "    elif n==5:\n",
    "             a=int(input())\n",
    "             b=int(input())\n",
    "             rem=a%b;\n",
    "             print(rem)\n",
    "    elif n==6:\n",
    "             break\n",
    "    else:\n",
    "        print(\"Invalid Operation\")\n"
   ]
  },
  {
   "cell_type": "code",
   "execution_count": 1,
   "id": "7abd305b",
   "metadata": {},
   "outputs": [
    {
     "name": "stdout",
     "output_type": "stream",
     "text": [
      "504\n",
      "405\n"
     ]
    }
   ],
   "source": [
    "n=int(input())\n",
    "rev=0\n",
    "while n!=0:\n",
    "    rem=n%10\n",
    "    rev=(rev*10)+rem\n",
    "    n=n//10\n",
    "print(rev)    "
   ]
  },
  {
   "cell_type": "code",
   "execution_count": 10,
   "id": "69e5bf00",
   "metadata": {},
   "outputs": [
    {
     "name": "stdout",
     "output_type": "stream",
     "text": [
      "343\n",
      "true\n"
     ]
    }
   ],
   "source": [
    "n=int(input())\n",
    "temp=n\n",
    "rev=0\n",
    "while n!=0:\n",
    "         rem=n%10\n",
    "         n=n//10\n",
    "         rev=(rev*10)+rem\n",
    "if rev==temp:\n",
    "    print (\"true\")\n",
    "else:\n",
    "    print(\"false\")"
   ]
  },
  {
   "cell_type": "code",
   "execution_count": 19,
   "id": "b617f690",
   "metadata": {
    "scrolled": false
   },
   "outputs": [
    {
     "name": "stdout",
     "output_type": "stream",
     "text": [
      "1234\n",
      "6 \t 4\n"
     ]
    }
   ],
   "source": [
    "n=int(input())\n",
    "t=n\n",
    "e=0\n",
    "o=0\n",
    "while n!=0:\n",
    "    rem=n%10\n",
    "    n=n//10\n",
    "    if rem%2==0:\n",
    "        e+=rem\n",
    "    else:\n",
    "        o+=rem\n",
    "print(e,\"\\t\",o)        "
   ]
  }
 ],
 "metadata": {
  "kernelspec": {
   "display_name": "Python 3 (ipykernel)",
   "language": "python",
   "name": "python3"
  },
  "language_info": {
   "codemirror_mode": {
    "name": "ipython",
    "version": 3
   },
   "file_extension": ".py",
   "mimetype": "text/x-python",
   "name": "python",
   "nbconvert_exporter": "python",
   "pygments_lexer": "ipython3",
   "version": "3.9.7"
  }
 },
 "nbformat": 4,
 "nbformat_minor": 5
}
