{
 "cells": [
  {
   "cell_type": "markdown",
   "id": "80105ff4",
   "metadata": {},
   "source": [
    "Inverted Triangle"
   ]
  },
  {
   "cell_type": "markdown",
   "id": "d3c93ab2",
   "metadata": {},
   "source": [
    "Inverted Triangle"
   ]
  },
  {
   "cell_type": "code",
   "execution_count": 8,
   "id": "1cc1d613",
   "metadata": {},
   "outputs": [
    {
     "name": "stdout",
     "output_type": "stream",
     "text": [
      "4\n",
      "****\n",
      "***\n",
      "**\n",
      "*\n"
     ]
    }
   ],
   "source": [
    "n=int(input())\n",
    "i=1\n",
    "while(i<=n):\n",
    "    j=1\n",
    "    while(j<=n-i+1):\n",
    "        print(\"*\",end='')\n",
    "        j=j+1\n",
    "    print()\n",
    "    i=i+1"
   ]
  },
  {
   "cell_type": "code",
   "execution_count": 2,
   "id": "9435c957",
   "metadata": {},
   "outputs": [
    {
     "name": "stdout",
     "output_type": "stream",
     "text": [
      "4\n",
      "4444\n",
      "333\n",
      "22\n",
      "1\n",
      "\n"
     ]
    }
   ],
   "source": [
    "n=int(input())\n",
    "i=n\n",
    "while(i>=0):\n",
    "    j=1\n",
    "    while(j<=i):\n",
    "        print(i,end='')\n",
    "        j=j+1\n",
    "    print()\n",
    "    i=i-1"
   ]
  },
  {
   "cell_type": "code",
   "execution_count": 3,
   "id": "93bbc485",
   "metadata": {},
   "outputs": [
    {
     "name": "stdout",
     "output_type": "stream",
     "text": [
      "4\n",
      "   *\n",
      "  **\n",
      " ***\n",
      "****\n"
     ]
    }
   ],
   "source": [
    "n=int(input())\n",
    "i=1\n",
    "while i<=n:\n",
    "    space=1\n",
    "    while space<=n-i:\n",
    "        print(' ',end='')\n",
    "        space=space+1\n",
    "    stars=1\n",
    "    while(stars<=i):\n",
    "        print(\"*\",end='')\n",
    "        stars=stars+1\n",
    "    print()\n",
    "    i=i+1"
   ]
  },
  {
   "cell_type": "code",
   "execution_count": 4,
   "id": "b4ca09d4",
   "metadata": {},
   "outputs": [
    {
     "name": "stdout",
     "output_type": "stream",
     "text": [
      "4\n",
      "   1\n",
      "  12\n",
      " 123\n",
      "1234\n"
     ]
    }
   ],
   "source": [
    "n=int(input())\n",
    "i=1\n",
    "while i<=n:\n",
    "    space=1\n",
    "    while space<=n-i:\n",
    "        print(\" \",end='')\n",
    "        space=space+1\n",
    "    no=1\n",
    "    while no<=i:\n",
    "        print(no,end='')\n",
    "        no=no+1\n",
    "    print()\n",
    "    i=i+1"
   ]
  },
  {
   "cell_type": "markdown",
   "id": "0f30817c",
   "metadata": {},
   "source": [
    "isoceles pattern:\n"
   ]
  },
  {
   "cell_type": "code",
   "execution_count": 2,
   "id": "a6b74a4b",
   "metadata": {},
   "outputs": [
    {
     "name": "stdout",
     "output_type": "stream",
     "text": [
      "4\n",
      "   1\n",
      "  121\n",
      " 12321\n",
      "1234321\n"
     ]
    }
   ],
   "source": [
    "n=int(input())\n",
    "i=1\n",
    "while i<=n:\n",
    "    #spaces\n",
    "    space=1\n",
    "    while space<=n-i:\n",
    "        print(\" \",end='')\n",
    "        space=space+1\n",
    "    #increasing sequence\n",
    "    no=1\n",
    "    while no<=i:\n",
    "        print(no,end='')\n",
    "        no=no+1\n",
    "  #decreasing sequence\n",
    "    p=i-1\n",
    "    while p>=1:\n",
    "        print(p,end='')\n",
    "        p=p-1\n",
    "    print()\n",
    "    i=i+1"
   ]
  },
  {
   "cell_type": "code",
   "execution_count": 19,
   "id": "2203c0c1",
   "metadata": {},
   "outputs": [
    {
     "name": "stdout",
     "output_type": "stream",
     "text": [
      "4\n",
      "   *\n",
      "  ***\n",
      " *****\n",
      "*******\n"
     ]
    }
   ],
   "source": [
    "n=int(input())\n",
    "i=1\n",
    "while i<=n:\n",
    "    space=1\n",
    "    while space<=n-i:\n",
    "        print(\" \",end='')\n",
    "        space=space+1\n",
    "    no=1\n",
    "    while no<=i:\n",
    "        print('*',end='')\n",
    "        no=no+1\n",
    "    p=i-1\n",
    "    while p>=1:\n",
    "        print('*',end='')\n",
    "        p=p-1\n",
    "    print()\n",
    "    i=i+1"
   ]
  },
  {
   "cell_type": "code",
   "execution_count": 22,
   "id": "668e89c9",
   "metadata": {},
   "outputs": [
    {
     "name": "stdout",
     "output_type": "stream",
     "text": [
      "4\n",
      "   1\n",
      "  232\n",
      " 34543\n",
      "4567654\n"
     ]
    }
   ],
   "source": [
    "n=int(input())\n",
    "i=1\n",
    "while i<=n:\n",
    "    #spaces\n",
    "    space=1\n",
    "    while space<=n-i:\n",
    "        print(\" \",end='')\n",
    "        space=space+1\n",
    "    #increasing sequence\n",
    "    no=i\n",
    "    l=i\n",
    "    if no==1:\n",
    "        print(no,end='')\n",
    "    else:        \n",
    "        no=1\n",
    "        while no<=i:\n",
    "          print(l,end='')\n",
    "          l=l+1\n",
    "          no=no+1\n",
    "  #decreasing sequence\n",
    "    p=l-2\n",
    "    while p>=i:\n",
    "        print(p,end='')\n",
    "        p=p-1\n",
    "    print()\n",
    "    i=i+1"
   ]
  },
  {
   "cell_type": "code",
   "execution_count": null,
   "id": "84566d22",
   "metadata": {},
   "outputs": [],
   "source": []
  }
 ],
 "metadata": {
  "kernelspec": {
   "display_name": "Python 3 (ipykernel)",
   "language": "python",
   "name": "python3"
  },
  "language_info": {
   "codemirror_mode": {
    "name": "ipython",
    "version": 3
   },
   "file_extension": ".py",
   "mimetype": "text/x-python",
   "name": "python",
   "nbconvert_exporter": "python",
   "pygments_lexer": "ipython3",
   "version": "3.9.7"
  }
 },
 "nbformat": 4,
 "nbformat_minor": 5
}
