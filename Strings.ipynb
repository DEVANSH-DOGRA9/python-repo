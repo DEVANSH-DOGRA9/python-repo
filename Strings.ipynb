{
 "cells": [
  {
   "cell_type": "code",
   "execution_count": 2,
   "id": "99fc32a5",
   "metadata": {},
   "outputs": [
    {
     "name": "stdout",
     "output_type": "stream",
     "text": [
      "c\n"
     ]
    }
   ],
   "source": [
    "s =\"abcd\"\n",
    "print(s[-2])\n"
   ]
  },
  {
   "cell_type": "code",
   "execution_count": 8,
   "id": "abfa654a",
   "metadata": {},
   "outputs": [
    {
     "name": "stdout",
     "output_type": "stream",
     "text": [
      "They are same\n"
     ]
    }
   ],
   "source": [
    "s =\"abcd\"\n",
    "a =\"abcd\"\n",
    "if id(s) == id(a):\n",
    "    print(\"They are same\")\n",
    "else:\n",
    "    print(\"They are not same\")\n"
   ]
  },
  {
   "cell_type": "code",
   "execution_count": 9,
   "id": "369b1045",
   "metadata": {},
   "outputs": [
    {
     "name": "stdout",
     "output_type": "stream",
     "text": [
      "abcd\n"
     ]
    }
   ],
   "source": [
    "s = \"abcd\"\n",
    "b = s + \"ef\"\n",
    "print(s)\n"
   ]
  },
  {
   "cell_type": "code",
   "execution_count": 13,
   "id": "be98d195",
   "metadata": {},
   "outputs": [
    {
     "name": "stdout",
     "output_type": "stream",
     "text": [
      "cdef\n"
     ]
    }
   ],
   "source": [
    "s = \"abcdef\"\n",
    "print (s[2:])\n"
   ]
  },
  {
   "cell_type": "code",
   "execution_count": 14,
   "id": "335e86e6",
   "metadata": {},
   "outputs": [
    {
     "name": "stdout",
     "output_type": "stream",
     "text": [
      "ed\n"
     ]
    }
   ],
   "source": [
    "s = \"abcdef\"\n",
    "print (s[4:2:-1])\n"
   ]
  },
  {
   "cell_type": "code",
   "execution_count": 2,
   "id": "85bac04e",
   "metadata": {},
   "outputs": [
    {
     "name": "stdout",
     "output_type": "stream",
     "text": [
      "False\n"
     ]
    }
   ],
   "source": [
    "a = \"abcdef\" == \"abcd\"\n",
    "print(a)\n"
   ]
  },
  {
   "cell_type": "code",
   "execution_count": 3,
   "id": "170d7294",
   "metadata": {},
   "outputs": [
    {
     "name": "stdout",
     "output_type": "stream",
     "text": [
      "True\n"
     ]
    }
   ],
   "source": [
    "a = \"abcdef\" >= \"abcd\"\n",
    "print(a)\n"
   ]
  },
  {
   "cell_type": "code",
   "execution_count": 4,
   "id": "3ace769c",
   "metadata": {},
   "outputs": [
    {
     "name": "stdout",
     "output_type": "stream",
     "text": [
      "True\n"
     ]
    }
   ],
   "source": [
    "a = \"abce\" >= \"abcdef\"\n",
    "print(a)\n"
   ]
  },
  {
   "cell_type": "code",
   "execution_count": 10,
   "id": "d925c66b",
   "metadata": {},
   "outputs": [
    {
     "name": "stdout",
     "output_type": "stream",
     "text": [
      "malayalam\n",
      "True\n"
     ]
    }
   ],
   "source": [
    "def checkPalindrome(n):\n",
    "    length=len(str)\n",
    "    rev=str[length-1::-1]\n",
    "    if rev==str:\n",
    "        print(\"True\")\n",
    "    else:\n",
    "        print(\"False\")\n",
    "str=input()\n",
    "checkPalindrome(str)\n",
    "        \n",
    "        "
   ]
  },
  {
   "cell_type": "code",
   "execution_count": 6,
   "id": "7a3477b3",
   "metadata": {},
   "outputs": [
    {
     "name": "stdout",
     "output_type": "stream",
     "text": [
      "false\n"
     ]
    }
   ],
   "source": [
    "from sys import stdin\n",
    "\n",
    "def isPermutation(string1, string2) :\n",
    "    def isPermutation(string1, string2) :\n",
    "        s1=0\n",
    "        s2=0\n",
    "        for i in string1:\n",
    "            s1=s1+ord(i)\n",
    "        for j in string2:\n",
    "            s2=s2+ord(j)\n",
    "        if (s1==s2):\n",
    "            return True\n",
    "        return False\n",
    "\n",
    "string1 = stdin.readline().strip();\n",
    "string2 = stdin.readline().strip();\n",
    "\n",
    "ans = isPermutation(string1, string2)\n",
    "\n",
    "if ans :\n",
    "    print('true')\n",
    "else :\n",
    "    print('false')\n",
    "\n"
   ]
  },
  {
   "cell_type": "code",
   "execution_count": null,
   "id": "3ffd7ebd",
   "metadata": {},
   "outputs": [],
   "source": []
  }
 ],
 "metadata": {
  "kernelspec": {
   "display_name": "Python 3 (ipykernel)",
   "language": "python",
   "name": "python3"
  },
  "language_info": {
   "codemirror_mode": {
    "name": "ipython",
    "version": 3
   },
   "file_extension": ".py",
   "mimetype": "text/x-python",
   "name": "python",
   "nbconvert_exporter": "python",
   "pygments_lexer": "ipython3",
   "version": "3.9.7"
  }
 },
 "nbformat": 4,
 "nbformat_minor": 5
}
