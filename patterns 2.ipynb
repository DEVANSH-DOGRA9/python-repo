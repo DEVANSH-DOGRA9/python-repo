{
 "cells": [
  {
   "cell_type": "markdown",
   "id": "80105ff4",
   "metadata": {},
   "source": [
    "Inverted Triangle"
   ]
  },
  {
   "cell_type": "markdown",
   "id": "d3c93ab2",
   "metadata": {},
   "source": [
    "Inverted Triangle"
   ]
  },
  {
   "cell_type": "code",
   "execution_count": 8,
   "id": "1cc1d613",
   "metadata": {},
   "outputs": [
    {
     "name": "stdout",
     "output_type": "stream",
     "text": [
      "4\n",
      "****\n",
      "***\n",
      "**\n",
      "*\n"
     ]
    }
   ],
   "source": [
    "n=int(input())\n",
    "i=1\n",
    "while(i<=n):\n",
    "    j=1\n",
    "    while(j<=n-i+1):\n",
    "        print(\"*\",end='')\n",
    "        j=j+1\n",
    "    print()\n",
    "    i=i+1"
   ]
  },
  {
   "cell_type": "code",
   "execution_count": 5,
   "id": "e75e19cd",
   "metadata": {},
   "outputs": [
    {
     "name": "stdout",
     "output_type": "stream",
     "text": [
      "4\n",
      "****\n",
      "***\n",
      "**\n",
      "*\n"
     ]
    }
   ],
   "source": [
    "i=1\n",
    "n=int(input())\n",
    "t=n\n",
    "while i<=n:\n",
    "    j=1\n",
    "    while j<=t:\n",
    "        print(\"*\",end='')\n",
    "        j=j+1\n",
    "    t=t-1\n",
    "    i=i+1\n",
    "    print()"
   ]
  },
  {
   "cell_type": "code",
   "execution_count": 2,
   "id": "9435c957",
   "metadata": {},
   "outputs": [
    {
     "name": "stdout",
     "output_type": "stream",
     "text": [
      "4\n",
      "4444\n",
      "333\n",
      "22\n",
      "1\n",
      "\n"
     ]
    }
   ],
   "source": [
    "n=int(input())\n",
    "i=n\n",
    "while(i>=0):\n",
    "    j=1\n",
    "    while(j<=i):\n",
    "        print(i,end='')\n",
    "        j=j+1\n",
    "    print()\n",
    "    i=i-1"
   ]
  },
  {
   "cell_type": "code",
   "execution_count": 3,
   "id": "93bbc485",
   "metadata": {},
   "outputs": [
    {
     "name": "stdout",
     "output_type": "stream",
     "text": [
      "4\n",
      "   *\n",
      "  **\n",
      " ***\n",
      "****\n"
     ]
    }
   ],
   "source": [
    "n=int(input())\n",
    "i=1\n",
    "while i<=n:\n",
    "    space=1\n",
    "    while space<=n-i:\n",
    "        print(' ',end='')\n",
    "        space=space+1\n",
    "    stars=1\n",
    "    while(stars<=i):\n",
    "        print(\"*\",end='')\n",
    "        stars=stars+1\n",
    "    print()\n",
    "    i=i+1"
   ]
  },
  {
   "cell_type": "code",
   "execution_count": 4,
   "id": "b4ca09d4",
   "metadata": {},
   "outputs": [
    {
     "name": "stdout",
     "output_type": "stream",
     "text": [
      "4\n",
      "   1\n",
      "  12\n",
      " 123\n",
      "1234\n"
     ]
    }
   ],
   "source": [
    "n=int(input())\n",
    "i=1\n",
    "while i<=n:\n",
    "    space=1\n",
    "    while space<=n-i:\n",
    "        print(\" \",end='')\n",
    "        space=space+1\n",
    "    no=1\n",
    "    while no<=i:\n",
    "        print(no,end='')\n",
    "        no=no+1\n",
    "    print()\n",
    "    i=i+1"
   ]
  },
  {
   "cell_type": "markdown",
   "id": "0f30817c",
   "metadata": {},
   "source": [
    "isoceles pattern:\n"
   ]
  },
  {
   "cell_type": "code",
   "execution_count": 2,
   "id": "a6b74a4b",
   "metadata": {},
   "outputs": [
    {
     "name": "stdout",
     "output_type": "stream",
     "text": [
      "4\n",
      "   1\n",
      "  121\n",
      " 12321\n",
      "1234321\n"
     ]
    }
   ],
   "source": [
    "n=int(input())\n",
    "i=1\n",
    "while i<=n:\n",
    "    #spaces\n",
    "    space=1\n",
    "    while space<=n-i:\n",
    "        print(\" \",end='')\n",
    "        space=space+1\n",
    "    #increasing sequence\n",
    "    no=1\n",
    "    while no<=i:\n",
    "        print(no,end='')\n",
    "        no=no+1\n",
    "  #decreasing sequence\n",
    "    p=i-1\n",
    "    while p>=1:\n",
    "        print(p,end='')\n",
    "        p=p-1\n",
    "    print()\n",
    "    i=i+1"
   ]
  },
  {
   "cell_type": "code",
   "execution_count": 19,
   "id": "2203c0c1",
   "metadata": {},
   "outputs": [
    {
     "name": "stdout",
     "output_type": "stream",
     "text": [
      "4\n",
      "   *\n",
      "  ***\n",
      " *****\n",
      "*******\n"
     ]
    }
   ],
   "source": [
    "n=int(input())\n",
    "i=1\n",
    "while i<=n:\n",
    "    space=1\n",
    "    while space<=n-i:\n",
    "        print(\" \",end='')\n",
    "        space=space+1\n",
    "    no=1\n",
    "    while no<=i:\n",
    "        print('*',end='')\n",
    "        no=no+1\n",
    "    p=i-1\n",
    "    while p>=1:\n",
    "        print('*',end='')\n",
    "        p=p-1\n",
    "    print()\n",
    "    i=i+1"
   ]
  },
  {
   "cell_type": "code",
   "execution_count": 22,
   "id": "b5382328",
   "metadata": {},
   "outputs": [
    {
     "name": "stdout",
     "output_type": "stream",
     "text": [
      "4\n",
      "   1\n",
      "  232\n",
      " 34543\n",
      "4567654\n"
     ]
    }
   ],
   "source": [
    "n=int(input())\n",
    "i=1\n",
    "while i<=n:\n",
    "    #spaces\n",
    "    space=1\n",
    "    while space<=n-i:\n",
    "        print(\" \",end='')\n",
    "        space=space+1\n",
    "    #increasing sequence\n",
    "    no=i\n",
    "    l=i\n",
    "    if no==1:\n",
    "        print(no,end='')\n",
    "    else:        \n",
    "        no=1\n",
    "        while no<=i:\n",
    "          print(l,end='')\n",
    "          l=l+1\n",
    "          no=no+1\n",
    "  #decreasing sequence\n",
    "    p=l-2\n",
    "    while p>=i:\n",
    "        print(p,end='')\n",
    "        p=p-1\n",
    "    print()\n",
    "    i=i+1"
   ]
  },
  {
   "cell_type": "code",
   "execution_count": 11,
   "id": "4e306316",
   "metadata": {},
   "outputs": [
    {
     "name": "stdout",
     "output_type": "stream",
     "text": [
      "5\n",
      "1        1\n",
      "12      21\n",
      "123    321\n",
      "1234  4321\n",
      "1234554321\n"
     ]
    }
   ],
   "source": [
    "N=int(input())\n",
    "i=1\n",
    "X=N\n",
    "while i<=N:\n",
    "    j=1\n",
    "    while j<=i:\n",
    "        print(j,end=\"\")\n",
    "        j+=1\n",
    "    space=1\n",
    "    while space<=(X*2)-2:\n",
    "        print(\" \",end=\"\")\n",
    "        space+=1\n",
    "    n=1\n",
    "    while(n<=i):\n",
    "        print(i-n+1,end=\"\")\n",
    "        n+=1\n",
    "    print()\n",
    "    i=i+1\n",
    "    X=X-1"
   ]
  },
  {
   "cell_type": "markdown",
   "id": "1c990087",
   "metadata": {},
   "source": [
    "# "
   ]
  },
  {
   "cell_type": "code",
   "execution_count": 28,
   "id": "69a24460",
   "metadata": {},
   "outputs": [
    {
     "name": "stdout",
     "output_type": "stream",
     "text": [
      "4\n",
      "   1\n",
      "  212\n",
      " 32123\n",
      "4321234\n"
     ]
    }
   ],
   "source": [
    "i=1\n",
    "n=int(input())\n",
    "while(i<=n):\n",
    "    space=i\n",
    "    while space<n:\n",
    "        print(\" \",end='')\n",
    "        space=space+1\n",
    "    if i==1:\n",
    "        print(\"1\",end='')\n",
    "        #print()\n",
    "    else:\n",
    "        k=i\n",
    "        while k>0:\n",
    "            print(k,end='')\n",
    "            k=k-1\n",
    "        l=2\n",
    "        while l<=i:\n",
    "            print(l,end='')\n",
    "            l=l+1 \n",
    "    print()\n",
    "    i=i+1"
   ]
  },
  {
   "cell_type": "code",
   "execution_count": 17,
   "id": "2dfbfcc7",
   "metadata": {
    "scrolled": true
   },
   "outputs": [
    {
     "name": "stdout",
     "output_type": "stream",
     "text": [
      "4\n",
      "  *\n",
      "   ***\n",
      "    *****\n",
      "   ***\n"
     ]
    }
   ],
   "source": [
    "n=int(input())\n",
    "odd=1\n",
    "spaces=n//2\n",
    "i=1\n",
    "while i<=n:\n",
    "    s=1\n",
    "    while(s<=spaces):\n",
    "        print(\" \",end='')\n",
    "        s=s+1\n",
    "    if i>=(n//2)+1:\n",
    "        spaces=spaces-1\n",
    "    else:\n",
    "        spaces=spaces+1\n",
    "    o=1\n",
    "    while o<=odd:\n",
    "        print(\"*\",end='')\n",
    "        o+=1\n",
    "    if i>=(n//2)+1:\n",
    "        odd=odd-2\n",
    "    else:\n",
    "        odd=odd+2\n",
    "    print()    \n",
    "    i=i+1\n",
    "        \n",
    "        "
   ]
  },
  {
   "cell_type": "code",
   "execution_count": 1,
   "id": "d1de8026",
   "metadata": {},
   "outputs": [
    {
     "name": "stdout",
     "output_type": "stream",
     "text": [
      "5\n",
      "*0000*0000*\n",
      "0*000*000*0\n",
      "00*00*00*00\n",
      "000*0*0*000\n",
      "0000***0000\n"
     ]
    }
   ],
   "source": [
    "n=int(input())\n",
    "col=n*2+1\n",
    "laststar=n*2+1\n",
    "for i in range(1,n+1,1):\n",
    "    for j in range(1,col+1,1):\n",
    "        if(i==j or j==n+1 or j==laststar):\n",
    "            print(\"*\",end='')\n",
    "        else:\n",
    "            print(\"0\",end='')\n",
    "    print()\n",
    "    laststar=laststar-1"
   ]
  },
  {
   "cell_type": "code",
   "execution_count": 2,
   "id": "eff98b35",
   "metadata": {},
   "outputs": [
    {
     "name": "stdout",
     "output_type": "stream",
     "text": [
      "4\n",
      "1234\n",
      " 234\n",
      "  34\n",
      "   4\n",
      "  34\n",
      " 234\n",
      "1234\n"
     ]
    }
   ],
   "source": [
    "n=int(input())\n",
    "for i in range(1,n+1):\n",
    "    for j in range(1,n+1):\n",
    "        if j<i:\n",
    "            print(end=' ')\n",
    "        else:\n",
    "                print(j, end='')\n",
    "    print()\n",
    "for i in range(1,n):\n",
    "    for j in range(1,n+1):\n",
    "        if j<n-i:\n",
    "            print(end=' ')\n",
    "        else:\n",
    "            print(j,end='')\n",
    "    print()"
   ]
  },
  {
   "cell_type": "code",
   "execution_count": 4,
   "id": "5df27813",
   "metadata": {},
   "outputs": [
    {
     "name": "stdout",
     "output_type": "stream",
     "text": [
      "4\n",
      "  *\n",
      " ***\n",
      "*****\n",
      " ***\n",
      "  *\n",
      "   \n"
     ]
    }
   ],
   "source": [
    "## Read input as specified in the question.\n",
    "## Print output as specified in the question.\n",
    "n=int(input())\n",
    "i=1\n",
    "while(i<=n//2+1):\n",
    "    space=1\n",
    "    while (space<=(n//2+1-i)):\n",
    "        space+=1\n",
    "        print(\" \",end='')\n",
    "    j=1\n",
    "    while(j<=i):\n",
    "        print(\"*\",end='')\n",
    "        j=j+1\n",
    "    j=i-1\n",
    "    while(j>=1):\n",
    "        print(\"*\",end='')\n",
    "        j=j-1\n",
    "    print()\n",
    "    i=i+1\n",
    "i=n//2+1\n",
    "while(i>0):\n",
    "    space=0\n",
    "    while(space<=n//2+1-i):\n",
    "        space+=1\n",
    "        print(\" \",end='')\n",
    "    j=i-1\n",
    "    while(j>0):\n",
    "        print(\"*\",end='')\n",
    "        j=j-1\n",
    "    j=i-2\n",
    "    while(j>0):\n",
    "        print(\"*\",end='')\n",
    "        j=j-1\n",
    "    i=i-1\n",
    "    print()"
   ]
  },
  {
   "cell_type": "code",
   "execution_count": null,
   "id": "319e7149",
   "metadata": {},
   "outputs": [],
   "source": []
  }
 ],
 "metadata": {
  "kernelspec": {
   "display_name": "Python 3 (ipykernel)",
   "language": "python",
   "name": "python3"
  },
  "language_info": {
   "codemirror_mode": {
    "name": "ipython",
    "version": 3
   },
   "file_extension": ".py",
   "mimetype": "text/x-python",
   "name": "python",
   "nbconvert_exporter": "python",
   "pygments_lexer": "ipython3",
   "version": "3.9.7"
  }
 },
 "nbformat": 4,
 "nbformat_minor": 5
}
